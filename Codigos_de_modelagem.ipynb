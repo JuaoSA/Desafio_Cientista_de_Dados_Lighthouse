{
  "nbformat": 4,
  "nbformat_minor": 0,
  "metadata": {
    "colab": {
      "provenance": [],
      "authorship_tag": "ABX9TyPTeM0/QPf6VjFetrISmvAW",
      "include_colab_link": true
    },
    "kernelspec": {
      "name": "python3",
      "display_name": "Python 3"
    },
    "language_info": {
      "name": "python"
    }
  },
  "cells": [
    {
      "cell_type": "markdown",
      "metadata": {
        "id": "view-in-github",
        "colab_type": "text"
      },
      "source": [
        "<a href=\"https://colab.research.google.com/github/JuaoSA/Desafio_Cientista_de_Dados_Lighthouse/blob/main/Untitled43.ipynb\" target=\"_parent\"><img src=\"https://colab.research.google.com/assets/colab-badge.svg\" alt=\"Open In Colab\"/></a>"
      ]
    },
    {
      "cell_type": "markdown",
      "source": [
        " O DecisionTreeClassifier é usado neste código para criar previsões sobre novos dados. A árvore de decisão funciona construindo uma estrutura de árvore a partir das características dos dados de treinamento. A escolha do DecisionTreeClassifier foi feita por conta do tempo de treinamento do modelo."
      ],
      "metadata": {
        "id": "xjxAxxLszFXS"
      }
    },
    {
      "cell_type": "code",
      "source": [
        "import pandas as pd\n",
        "from pandas_profiling import ProfileReport\n",
        "from sklearn import preprocessing\n",
        "import pandas as pd\n",
        "from sklearn.model_selection import train_test_split\n",
        "from sklearn.metrics import accuracy_score, classification_report\n",
        "from sklearn.tree import DecisionTreeClassifier\n",
        "\n",
        "df_treino=pd.read_csv(\"desafio_manutencao_preditiva_treino.csv\")\n",
        "df_teste=pd.read_csv(\"desafio_manutencao_preditiva_teste.csv\")\n",
        "df_treino = df_treino.apply(preprocessing.LabelEncoder().fit_transform)\n",
        "df_teste = df_teste.apply(preprocessing.LabelEncoder().fit_transform)\n",
        "df_teste.insert(8, 'failure_type', True)\n",
        "\n",
        "\n",
        "# Separar as features de cada DataFrame e as classes (labels)\n",
        "X_train = df_treino.iloc[:, :-1]\n",
        "y_train = df_treino['failure_type']\n",
        "\n",
        "X_test = df_teste.iloc[:, :-1]\n",
        "y_test = df_teste['failure_type']\n",
        "\n",
        "# Instanciar o classificador RandomForest\n",
        "clf = DecisionTreeClassifier(max_depth=10)\n",
        "\n",
        "# Treinar o modelo com o conjunto de treino\n",
        "clf.fit(X_train, y_train)\n",
        "\n",
        "# Realizar previsões com o conjunto de teste\n",
        "y_pred = clf.predict(X_test)\n",
        "\n",
        "# Calcular a acurácia do modelo\n",
        "acc = accuracy_score(y_test, y_pred)\n",
        "\n",
        "# Imprimir as métricas de avaliação do modelo\n",
        "print('Acurácia do modelo: {:.2f}%'.format(acc * 100))\n",
        "print('\\nRelatório de Classificação:')\n",
        "print(classification_report(y_test, y_pred))"
      ],
      "metadata": {
        "colab": {
          "base_uri": "https://localhost:8080/"
        },
        "id": "mU8D3qd3cmpO",
        "outputId": "e7d71b03-4857-4260-8d0f-b8f5a9e4648c"
      },
      "execution_count": null,
      "outputs": [
        {
          "output_type": "stream",
          "name": "stdout",
          "text": [
            "Acurácia do modelo: 98.23%\n",
            "\n",
            "Relatório de Classificação:\n",
            "              precision    recall  f1-score   support\n",
            "\n",
            "           0       0.00      0.00      0.00         0\n",
            "           1       1.00      0.98      0.99      3333\n",
            "           2       0.00      0.00      0.00         0\n",
            "           3       0.00      0.00      0.00         0\n",
            "           5       0.00      0.00      0.00         0\n",
            "\n",
            "    accuracy                           0.98      3333\n",
            "   macro avg       0.20      0.20      0.20      3333\n",
            "weighted avg       1.00      0.98      0.99      3333\n",
            "\n"
          ]
        },
        {
          "output_type": "stream",
          "name": "stderr",
          "text": [
            "/usr/local/lib/python3.8/dist-packages/sklearn/metrics/_classification.py:1318: UndefinedMetricWarning: Recall and F-score are ill-defined and being set to 0.0 in labels with no true samples. Use `zero_division` parameter to control this behavior.\n",
            "  _warn_prf(average, modifier, msg_start, len(result))\n",
            "/usr/local/lib/python3.8/dist-packages/sklearn/metrics/_classification.py:1318: UndefinedMetricWarning: Recall and F-score are ill-defined and being set to 0.0 in labels with no true samples. Use `zero_division` parameter to control this behavior.\n",
            "  _warn_prf(average, modifier, msg_start, len(result))\n",
            "/usr/local/lib/python3.8/dist-packages/sklearn/metrics/_classification.py:1318: UndefinedMetricWarning: Recall and F-score are ill-defined and being set to 0.0 in labels with no true samples. Use `zero_division` parameter to control this behavior.\n",
            "  _warn_prf(average, modifier, msg_start, len(result))\n"
          ]
        }
      ]
    },
    {
      "cell_type": "code",
      "source": [
        "predicted_values = pd.Series(y_pred)\n",
        "predicted_values = predicted_values.map({1:'No Failure', 3:'Power Failure', 5:'Tool Wear Failure',2:'Overstrain Failure', 4:'Random Failures',0:'Heat Dissipation Failure'})\n",
        "dados = {'rowNumber': predicted_values.index,\n",
        "'predictedValues':predicted_values}\n",
        "predicted = pd.DataFrame(dados)\n",
        "predicted.to_csv('predicted.csv')\n"
      ],
      "metadata": {
        "id": "4VDNAL9FegSu"
      },
      "execution_count": null,
      "outputs": []
    },
    {
      "cell_type": "code",
      "source": [
        "predicted['predictedValues'].value_counts()"
      ],
      "metadata": {
        "colab": {
          "base_uri": "https://localhost:8080/"
        },
        "id": "i511SRonofnU",
        "outputId": "30932679-dcf3-4eda-c0aa-15348563ba98"
      },
      "execution_count": null,
      "outputs": [
        {
          "output_type": "execute_result",
          "data": {
            "text/plain": [
              "No Failure                  3274\n",
              "Heat Dissipation Failure      21\n",
              "Power Failure                 18\n",
              "Overstrain Failure            18\n",
              "Tool Wear Failure              2\n",
              "Name: predictedValues, dtype: int64"
            ]
          },
          "metadata": {},
          "execution_count": 128
        }
      ]
    }
  ]
}
